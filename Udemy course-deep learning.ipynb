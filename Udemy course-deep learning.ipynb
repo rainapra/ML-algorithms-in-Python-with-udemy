{
 "cells": [
  {
   "cell_type": "code",
   "execution_count": 23,
   "metadata": {},
   "outputs": [],
   "source": [
    "import numpy as np\n",
    "import pandas as pd\n",
    "import tensorflow as tf"
   ]
  },
  {
   "cell_type": "code",
   "execution_count": 2,
   "metadata": {},
   "outputs": [
    {
     "name": "stdout",
     "output_type": "stream",
     "text": [
      "Collecting tensorflow\n",
      "  Downloading https://files.pythonhosted.org/packages/af/50/d7da24189d95e2084bb1cc350a8e4acdf1b0c9b3d57def7a348f0d9cb062/tensorflow-2.2.0-cp37-cp37m-win_amd64.whl (459.2MB)\n",
      "Collecting keras-preprocessing>=1.1.0 (from tensorflow)\n",
      "  Downloading https://files.pythonhosted.org/packages/79/4c/7c3275a01e12ef9368a892926ab932b33bb13d55794881e3573482b378a7/Keras_Preprocessing-1.1.2-py2.py3-none-any.whl (42kB)\n",
      "Collecting scipy==1.4.1; python_version >= \"3\" (from tensorflow)\n",
      "  Downloading https://files.pythonhosted.org/packages/61/51/046cbc61c7607e5ecead6ff1a9453fba5e7e47a5ea8d608cc7036586a5ef/scipy-1.4.1-cp37-cp37m-win_amd64.whl (30.9MB)\n",
      "Requirement already satisfied, skipping upgrade: six>=1.12.0 in c:\\users\\raina\\anaconda3\\lib\\site-packages (from tensorflow) (1.12.0)\n",
      "Collecting h5py<2.11.0,>=2.10.0 (from tensorflow)\n",
      "  Downloading https://files.pythonhosted.org/packages/a1/6b/7f62017e3f0b32438dd90bdc1ff0b7b1448b6cb04a1ed84f37b6de95cd7b/h5py-2.10.0-cp37-cp37m-win_amd64.whl (2.5MB)\n",
      "Requirement already satisfied, skipping upgrade: numpy<2.0,>=1.16.0 in c:\\users\\raina\\anaconda3\\lib\\site-packages (from tensorflow) (1.16.5)\n",
      "Collecting tensorboard<2.3.0,>=2.2.0 (from tensorflow)\n",
      "  Downloading https://files.pythonhosted.org/packages/1d/74/0a6fcb206dcc72a6da9a62dd81784bfdbff5fedb099982861dc2219014fb/tensorboard-2.2.2-py3-none-any.whl (3.0MB)\n",
      "Collecting opt-einsum>=2.3.2 (from tensorflow)\n",
      "  Downloading https://files.pythonhosted.org/packages/63/a5/e6c07b08b934831ccb8c98ee335e66b7761c5754ee3cabfe4c11d0b1af28/opt_einsum-3.2.1-py3-none-any.whl (63kB)\n",
      "Collecting absl-py>=0.7.0 (from tensorflow)\n",
      "  Downloading https://files.pythonhosted.org/packages/1a/53/9243c600e047bd4c3df9e69cfabc1e8004a82cac2e0c484580a78a94ba2a/absl-py-0.9.0.tar.gz (104kB)\n",
      "Collecting grpcio>=1.8.6 (from tensorflow)\n",
      "  Downloading https://files.pythonhosted.org/packages/9a/10/7fe727fbdb4086b1afb1bb3c70052fe04c9dffe6cc3db6beb6ad6ce45077/grpcio-1.29.0-cp37-cp37m-win_amd64.whl (2.3MB)\n",
      "Collecting termcolor>=1.1.0 (from tensorflow)\n",
      "  Downloading https://files.pythonhosted.org/packages/8a/48/a76be51647d0eb9f10e2a4511bf3ffb8cc1e6b14e9e4fab46173aa79f981/termcolor-1.1.0.tar.gz\n",
      "Requirement already satisfied, skipping upgrade: wheel>=0.26; python_version >= \"3\" in c:\\users\\raina\\anaconda3\\lib\\site-packages (from tensorflow) (0.33.6)\n",
      "Requirement already satisfied, skipping upgrade: wrapt>=1.11.1 in c:\\users\\raina\\anaconda3\\lib\\site-packages (from tensorflow) (1.11.2)\n",
      "Collecting google-pasta>=0.1.8 (from tensorflow)\n",
      "  Downloading https://files.pythonhosted.org/packages/a3/de/c648ef6835192e6e2cc03f40b19eeda4382c49b5bafb43d88b931c4c74ac/google_pasta-0.2.0-py3-none-any.whl (57kB)\n",
      "Collecting tensorflow-estimator<2.3.0,>=2.2.0 (from tensorflow)\n",
      "  Downloading https://files.pythonhosted.org/packages/a4/f5/926ae53d6a226ec0fda5208e0e581cffed895ccc89e36ba76a8e60895b78/tensorflow_estimator-2.2.0-py2.py3-none-any.whl (454kB)\n",
      "Collecting gast==0.3.3 (from tensorflow)\n",
      "  Downloading https://files.pythonhosted.org/packages/d6/84/759f5dd23fec8ba71952d97bcc7e2c9d7d63bdc582421f3cd4be845f0c98/gast-0.3.3-py2.py3-none-any.whl\n",
      "Collecting astunparse==1.6.3 (from tensorflow)\n",
      "  Downloading https://files.pythonhosted.org/packages/2b/03/13dde6512ad7b4557eb792fbcf0c653af6076b81e5941d36ec61f7ce6028/astunparse-1.6.3-py2.py3-none-any.whl\n",
      "Collecting protobuf>=3.8.0 (from tensorflow)\n",
      "  Downloading https://files.pythonhosted.org/packages/82/6c/c9b57d24685639dfb07b1798bf64e576c3c675a0b9fe0519254d0f9d1e30/protobuf-3.12.2-cp37-cp37m-win_amd64.whl (1.0MB)\n",
      "Collecting google-auth<2,>=1.6.3 (from tensorboard<2.3.0,>=2.2.0->tensorflow)\n",
      "  Downloading https://files.pythonhosted.org/packages/88/8c/d161e4653a574e2299bc7d1cae14f08db74f828febaf30a1b7e216680085/google_auth-1.16.0-py2.py3-none-any.whl (90kB)\n",
      "Collecting tensorboard-plugin-wit>=1.6.0 (from tensorboard<2.3.0,>=2.2.0->tensorflow)\n",
      "  Downloading https://files.pythonhosted.org/packages/51/cd/a0c1f9e4582ea64dddf76c1b808b318d01e3b858a51c715bffab1016ecc7/tensorboard_plugin_wit-1.6.0.post3-py3-none-any.whl (777kB)\n",
      "Requirement already satisfied, skipping upgrade: werkzeug>=0.11.15 in c:\\users\\raina\\anaconda3\\lib\\site-packages (from tensorboard<2.3.0,>=2.2.0->tensorflow) (0.16.0)\n",
      "Collecting google-auth-oauthlib<0.5,>=0.4.1 (from tensorboard<2.3.0,>=2.2.0->tensorflow)\n",
      "  Downloading https://files.pythonhosted.org/packages/7b/b8/88def36e74bee9fce511c9519571f4e485e890093ab7442284f4ffaef60b/google_auth_oauthlib-0.4.1-py2.py3-none-any.whl\n",
      "Requirement already satisfied, skipping upgrade: requests<3,>=2.21.0 in c:\\users\\raina\\anaconda3\\lib\\site-packages (from tensorboard<2.3.0,>=2.2.0->tensorflow) (2.22.0)\n",
      "Collecting markdown>=2.6.8 (from tensorboard<2.3.0,>=2.2.0->tensorflow)\n",
      "  Downloading https://files.pythonhosted.org/packages/a4/63/eaec2bd025ab48c754b55e8819af0f6a69e2b1e187611dd40cbbe101ee7f/Markdown-3.2.2-py3-none-any.whl (88kB)\n",
      "Requirement already satisfied, skipping upgrade: setuptools>=41.0.0 in c:\\users\\raina\\anaconda3\\lib\\site-packages (from tensorboard<2.3.0,>=2.2.0->tensorflow) (41.4.0)\n",
      "Collecting cachetools<5.0,>=2.0.0 (from google-auth<2,>=1.6.3->tensorboard<2.3.0,>=2.2.0->tensorflow)\n",
      "  Downloading https://files.pythonhosted.org/packages/b3/59/524ffb454d05001e2be74c14745b485681c6ed5f2e625f71d135704c0909/cachetools-4.1.0-py3-none-any.whl\n",
      "Collecting rsa<4.1,>=3.1.4 (from google-auth<2,>=1.6.3->tensorboard<2.3.0,>=2.2.0->tensorflow)\n",
      "  Downloading https://files.pythonhosted.org/packages/02/e5/38518af393f7c214357079ce67a317307936896e961e35450b70fad2a9cf/rsa-4.0-py2.py3-none-any.whl\n",
      "Collecting pyasn1-modules>=0.2.1 (from google-auth<2,>=1.6.3->tensorboard<2.3.0,>=2.2.0->tensorflow)\n",
      "  Downloading https://files.pythonhosted.org/packages/95/de/214830a981892a3e286c3794f41ae67a4495df1108c3da8a9f62159b9a9d/pyasn1_modules-0.2.8-py2.py3-none-any.whl (155kB)\n",
      "Collecting requests-oauthlib>=0.7.0 (from google-auth-oauthlib<0.5,>=0.4.1->tensorboard<2.3.0,>=2.2.0->tensorflow)\n",
      "  Downloading https://files.pythonhosted.org/packages/a3/12/b92740d845ab62ea4edf04d2f4164d82532b5a0b03836d4d4e71c6f3d379/requests_oauthlib-1.3.0-py2.py3-none-any.whl\n",
      "Requirement already satisfied, skipping upgrade: certifi>=2017.4.17 in c:\\users\\raina\\anaconda3\\lib\\site-packages (from requests<3,>=2.21.0->tensorboard<2.3.0,>=2.2.0->tensorflow) (2019.9.11)\n",
      "Requirement already satisfied, skipping upgrade: chardet<3.1.0,>=3.0.2 in c:\\users\\raina\\anaconda3\\lib\\site-packages (from requests<3,>=2.21.0->tensorboard<2.3.0,>=2.2.0->tensorflow) (3.0.4)\n",
      "Requirement already satisfied, skipping upgrade: idna<2.9,>=2.5 in c:\\users\\raina\\anaconda3\\lib\\site-packages (from requests<3,>=2.21.0->tensorboard<2.3.0,>=2.2.0->tensorflow) (2.8)\n",
      "Requirement already satisfied, skipping upgrade: urllib3!=1.25.0,!=1.25.1,<1.26,>=1.21.1 in c:\\users\\raina\\anaconda3\\lib\\site-packages (from requests<3,>=2.21.0->tensorboard<2.3.0,>=2.2.0->tensorflow) (1.24.2)\n",
      "Requirement already satisfied, skipping upgrade: importlib-metadata; python_version < \"3.8\" in c:\\users\\raina\\anaconda3\\lib\\site-packages (from markdown>=2.6.8->tensorboard<2.3.0,>=2.2.0->tensorflow) (0.23)\n",
      "Collecting pyasn1>=0.1.3 (from rsa<4.1,>=3.1.4->google-auth<2,>=1.6.3->tensorboard<2.3.0,>=2.2.0->tensorflow)\n",
      "  Downloading https://files.pythonhosted.org/packages/62/1e/a94a8d635fa3ce4cfc7f506003548d0a2447ae76fd5ca53932970fe3053f/pyasn1-0.4.8-py2.py3-none-any.whl (77kB)\n",
      "Collecting oauthlib>=3.0.0 (from requests-oauthlib>=0.7.0->google-auth-oauthlib<0.5,>=0.4.1->tensorboard<2.3.0,>=2.2.0->tensorflow)\n",
      "  Downloading https://files.pythonhosted.org/packages/05/57/ce2e7a8fa7c0afb54a0581b14a65b56e62b5759dbc98e80627142b8a3704/oauthlib-3.1.0-py2.py3-none-any.whl (147kB)\n",
      "Requirement already satisfied, skipping upgrade: zipp>=0.5 in c:\\users\\raina\\anaconda3\\lib\\site-packages (from importlib-metadata; python_version < \"3.8\"->markdown>=2.6.8->tensorboard<2.3.0,>=2.2.0->tensorflow) (0.6.0)\n",
      "Requirement already satisfied, skipping upgrade: more-itertools in c:\\users\\raina\\anaconda3\\lib\\site-packages (from zipp>=0.5->importlib-metadata; python_version < \"3.8\"->markdown>=2.6.8->tensorboard<2.3.0,>=2.2.0->tensorflow) (7.2.0)\n",
      "Building wheels for collected packages: absl-py, termcolor\n",
      "  Building wheel for absl-py (setup.py): started\n",
      "  Building wheel for absl-py (setup.py): finished with status 'done'\n",
      "  Created wheel for absl-py: filename=absl_py-0.9.0-cp37-none-any.whl size=121936 sha256=9aede94901c6e64e4156ca618170ed5458d7c2a367842d1ade57b1a93e9a1b4c\n",
      "  Stored in directory: C:\\Users\\raina\\AppData\\Local\\pip\\Cache\\wheels\\8e\\28\\49\\fad4e7f0b9a1227708cbbee4487ac8558a7334849cb81c813d\n",
      "  Building wheel for termcolor (setup.py): started\n",
      "  Building wheel for termcolor (setup.py): finished with status 'done'\n",
      "  Created wheel for termcolor: filename=termcolor-1.1.0-cp37-none-any.whl size=4835 sha256=2a9fc44a9f0ac771e59f668fcf0429fba24dc05a424f3c0b141af9dec55cb413\n",
      "  Stored in directory: C:\\Users\\raina\\AppData\\Local\\pip\\Cache\\wheels\\7c\\06\\54\\bc84598ba1daf8f970247f550b175aaaee85f68b4b0c5ab2c6\n",
      "Successfully built absl-py termcolor\n",
      "Installing collected packages: keras-preprocessing, scipy, h5py, cachetools, pyasn1, rsa, pyasn1-modules, google-auth, tensorboard-plugin-wit, oauthlib, requests-oauthlib, google-auth-oauthlib, markdown, protobuf, absl-py, grpcio, tensorboard, opt-einsum, termcolor, google-pasta, tensorflow-estimator, gast, astunparse, tensorflow\n",
      "  Found existing installation: scipy 1.3.1\n",
      "    Uninstalling scipy-1.3.1:\n",
      "      Successfully uninstalled scipy-1.3.1\n",
      "Note: you may need to restart the kernel to use updated packages.\n"
     ]
    },
    {
     "name": "stderr",
     "output_type": "stream",
     "text": [
      "ERROR: Could not install packages due to an EnvironmentError: [WinError 5] Access is denied: 'c:\\\\users\\\\raina\\\\anaconda3\\\\lib\\\\site-packages\\\\~cipy\\\\integrate\\\\lsoda.cp37-win_amd64.pyd'\n",
      "Consider using the `--user` option or check the permissions.\n",
      "\n"
     ]
    }
   ],
   "source": [
    "pip install --upgrade tensorflow"
   ]
  },
  {
   "cell_type": "code",
   "execution_count": 3,
   "metadata": {},
   "outputs": [
    {
     "data": {
      "text/plain": [
       "'2.1.0'"
      ]
     },
     "execution_count": 3,
     "metadata": {},
     "output_type": "execute_result"
    }
   ],
   "source": [
    "tf.__version__"
   ]
  },
  {
   "cell_type": "code",
   "execution_count": 4,
   "metadata": {},
   "outputs": [],
   "source": [
    "dataset = pd.read_csv('Churn_Modelling.csv')\n",
    "x = dataset.iloc[:, 3:-1].values\n",
    "y = dataset.iloc[:, -1].values"
   ]
  },
  {
   "cell_type": "code",
   "execution_count": 24,
   "metadata": {},
   "outputs": [
    {
     "name": "stdout",
     "output_type": "stream",
     "text": [
      "[[-0.95692675  1.62776996 -0.57427105 ...  0.66011376  0.97628121\n",
      "   1.62185911]\n",
      " [ 1.04501206 -0.61433742 -0.57427105 ...  0.66011376 -1.02429504\n",
      "   0.504204  ]\n",
      " [-0.95692675 -0.61433742  1.74133801 ...  0.66011376  0.97628121\n",
      "  -0.41865644]\n",
      " ...\n",
      " [-0.95692675 -0.61433742  1.74133801 ...  0.66011376 -1.02429504\n",
      "   0.72775202]\n",
      " [-0.95692675  1.62776996 -0.57427105 ...  0.66011376  0.97628121\n",
      "  -1.54162886]\n",
      " [-0.95692675  1.62776996 -0.57427105 ...  0.66011376 -1.02429504\n",
      "   1.62356528]]\n"
     ]
    }
   ],
   "source": [
    "print(x_test)"
   ]
  },
  {
   "cell_type": "code",
   "execution_count": 5,
   "metadata": {},
   "outputs": [],
   "source": [
    "from sklearn.preprocessing import LabelEncoder\n",
    "le = LabelEncoder()\n",
    "x[:, 2] = le.fit_transform(x[:, 2])"
   ]
  },
  {
   "cell_type": "code",
   "execution_count": 6,
   "metadata": {},
   "outputs": [],
   "source": [
    "from sklearn.compose import ColumnTransformer\n",
    "from sklearn.preprocessing import OneHotEncoder\n",
    "ct = ColumnTransformer(transformers=[('encoder', OneHotEncoder(), [1])], remainder='passthrough')\n",
    "x = np.array(ct.fit_transform(x))"
   ]
  },
  {
   "cell_type": "code",
   "execution_count": 7,
   "metadata": {},
   "outputs": [],
   "source": [
    "from sklearn.model_selection import train_test_split\n",
    "x_train, x_test, y_train, y_test = train_test_split(x, y, test_size = 0.2, random_state = 0)"
   ]
  },
  {
   "cell_type": "code",
   "execution_count": 8,
   "metadata": {},
   "outputs": [],
   "source": [
    "from sklearn.preprocessing import StandardScaler\n",
    "sc = StandardScaler()\n",
    "x_train = sc.fit_transform(x_train)\n",
    "x_test = sc.fit_transform(x_test)"
   ]
  },
  {
   "cell_type": "code",
   "execution_count": 9,
   "metadata": {},
   "outputs": [],
   "source": [
    "ann = tf.keras.models.Sequential()"
   ]
  },
  {
   "cell_type": "code",
   "execution_count": 10,
   "metadata": {},
   "outputs": [],
   "source": [
    "ann.add(tf.keras.layers.Dense(units=6, activation='relu'))"
   ]
  },
  {
   "cell_type": "code",
   "execution_count": 11,
   "metadata": {},
   "outputs": [],
   "source": [
    "ann.add(tf.keras.layers.Dense(units=6, activation='relu'))"
   ]
  },
  {
   "cell_type": "code",
   "execution_count": 12,
   "metadata": {},
   "outputs": [],
   "source": [
    "ann.add(tf.keras.layers.Dense(units=1, activation='sigmoid'))"
   ]
  },
  {
   "cell_type": "code",
   "execution_count": 13,
   "metadata": {},
   "outputs": [],
   "source": [
    "ann.compile(optimizer = 'adam', loss = 'binary_crossentropy', metrics = ['accuracy'])"
   ]
  },
  {
   "cell_type": "code",
   "execution_count": 14,
   "metadata": {
    "scrolled": false
   },
   "outputs": [
    {
     "name": "stdout",
     "output_type": "stream",
     "text": [
      "Train on 8000 samples\n",
      "Epoch 1/100\n",
      "8000/8000 [==============================] - 1s 107us/sample - loss: 0.5589 - accuracy: 0.7437\n",
      "Epoch 2/100\n",
      "8000/8000 [==============================] - 0s 38us/sample - loss: 0.4776 - accuracy: 0.7934\n",
      "Epoch 3/100\n",
      "8000/8000 [==============================] - 0s 35us/sample - loss: 0.4506 - accuracy: 0.7943\n",
      "Epoch 4/100\n",
      "8000/8000 [==============================] - 0s 34us/sample - loss: 0.4392 - accuracy: 0.7954\n",
      "Epoch 5/100\n",
      "8000/8000 [==============================] - 0s 32us/sample - loss: 0.4333 - accuracy: 0.7958\n",
      "Epoch 6/100\n",
      "8000/8000 [==============================] - 0s 33us/sample - loss: 0.4296 - accuracy: 0.7990\n",
      "Epoch 7/100\n",
      "8000/8000 [==============================] - 0s 34us/sample - loss: 0.4267 - accuracy: 0.8011\n",
      "Epoch 8/100\n",
      "8000/8000 [==============================] - 0s 36us/sample - loss: 0.4240 - accuracy: 0.8044\n",
      "Epoch 9/100\n",
      "8000/8000 [==============================] - 0s 32us/sample - loss: 0.4214 - accuracy: 0.8075\n",
      "Epoch 10/100\n",
      "8000/8000 [==============================] - 0s 32us/sample - loss: 0.4184 - accuracy: 0.8145\n",
      "Epoch 11/100\n",
      "8000/8000 [==============================] - 0s 31us/sample - loss: 0.4145 - accuracy: 0.8191\n",
      "Epoch 12/100\n",
      "8000/8000 [==============================] - 0s 30us/sample - loss: 0.4106 - accuracy: 0.8230\n",
      "Epoch 13/100\n",
      "8000/8000 [==============================] - 0s 31us/sample - loss: 0.4063 - accuracy: 0.8260\n",
      "Epoch 14/100\n",
      "8000/8000 [==============================] - 0s 30us/sample - loss: 0.4023 - accuracy: 0.8264\n",
      "Epoch 15/100\n",
      "8000/8000 [==============================] - 0s 56us/sample - loss: 0.3985 - accuracy: 0.8279\n",
      "Epoch 16/100\n",
      "8000/8000 [==============================] - 0s 50us/sample - loss: 0.3955 - accuracy: 0.8325\n",
      "Epoch 17/100\n",
      "8000/8000 [==============================] - 0s 62us/sample - loss: 0.3924 - accuracy: 0.8315\n",
      "Epoch 18/100\n",
      "8000/8000 [==============================] - 0s 59us/sample - loss: 0.3900 - accuracy: 0.8319\n",
      "Epoch 19/100\n",
      "8000/8000 [==============================] - 1s 64us/sample - loss: 0.3876 - accuracy: 0.8344\n",
      "Epoch 20/100\n",
      "8000/8000 [==============================] - 1s 97us/sample - loss: 0.3856 - accuracy: 0.8344\n",
      "Epoch 21/100\n",
      "8000/8000 [==============================] - 1s 83us/sample - loss: 0.3837 - accuracy: 0.8334\n",
      "Epoch 22/100\n",
      "8000/8000 [==============================] - 1s 79us/sample - loss: 0.3812 - accuracy: 0.8341\n",
      "Epoch 23/100\n",
      "8000/8000 [==============================] - 1s 71us/sample - loss: 0.3790 - accuracy: 0.8350\n",
      "Epoch 24/100\n",
      "8000/8000 [==============================] - 1s 73us/sample - loss: 0.3766 - accuracy: 0.8344\n",
      "Epoch 25/100\n",
      "8000/8000 [==============================] - 1s 67us/sample - loss: 0.3737 - accuracy: 0.8354\n",
      "Epoch 26/100\n",
      "8000/8000 [==============================] - 1s 90us/sample - loss: 0.3712 - accuracy: 0.8346\n",
      "Epoch 27/100\n",
      "8000/8000 [==============================] - 0s 55us/sample - loss: 0.3686 - accuracy: 0.8353\n",
      "Epoch 28/100\n",
      "8000/8000 [==============================] - 0s 36us/sample - loss: 0.3657 - accuracy: 0.8405\n",
      "Epoch 29/100\n",
      "8000/8000 [==============================] - 0s 41us/sample - loss: 0.3629 - accuracy: 0.8440\n",
      "Epoch 30/100\n",
      "8000/8000 [==============================] - 0s 35us/sample - loss: 0.3604 - accuracy: 0.8476\n",
      "Epoch 31/100\n",
      "8000/8000 [==============================] - 0s 35us/sample - loss: 0.3591 - accuracy: 0.8491\n",
      "Epoch 32/100\n",
      "8000/8000 [==============================] - 0s 35us/sample - loss: 0.3571 - accuracy: 0.8494\n",
      "Epoch 33/100\n",
      "8000/8000 [==============================] - 0s 35us/sample - loss: 0.3560 - accuracy: 0.8503\n",
      "Epoch 34/100\n",
      "8000/8000 [==============================] - 0s 37us/sample - loss: 0.3548 - accuracy: 0.8524\n",
      "Epoch 35/100\n",
      "8000/8000 [==============================] - 0s 36us/sample - loss: 0.3538 - accuracy: 0.8528\n",
      "Epoch 36/100\n",
      "8000/8000 [==============================] - 0s 36us/sample - loss: 0.3523 - accuracy: 0.8543\n",
      "Epoch 37/100\n",
      "8000/8000 [==============================] - 0s 37us/sample - loss: 0.3521 - accuracy: 0.8559\n",
      "Epoch 38/100\n",
      "8000/8000 [==============================] - 0s 38us/sample - loss: 0.3512 - accuracy: 0.8562\n",
      "Epoch 39/100\n",
      "8000/8000 [==============================] - 0s 37us/sample - loss: 0.3498 - accuracy: 0.8587\n",
      "Epoch 40/100\n",
      "8000/8000 [==============================] - 0s 38us/sample - loss: 0.3495 - accuracy: 0.8569\n",
      "Epoch 41/100\n",
      "8000/8000 [==============================] - 0s 36us/sample - loss: 0.3482 - accuracy: 0.8587\n",
      "Epoch 42/100\n",
      "8000/8000 [==============================] - 0s 38us/sample - loss: 0.3481 - accuracy: 0.8587\n",
      "Epoch 43/100\n",
      "8000/8000 [==============================] - 0s 37us/sample - loss: 0.3476 - accuracy: 0.8584\n",
      "Epoch 44/100\n",
      "8000/8000 [==============================] - 0s 44us/sample - loss: 0.3466 - accuracy: 0.8594\n",
      "Epoch 45/100\n",
      "8000/8000 [==============================] - 0s 45us/sample - loss: 0.3462 - accuracy: 0.8594\n",
      "Epoch 46/100\n",
      "8000/8000 [==============================] - 0s 45us/sample - loss: 0.3461 - accuracy: 0.8601\n",
      "Epoch 47/100\n",
      "8000/8000 [==============================] - 0s 38us/sample - loss: 0.3457 - accuracy: 0.8606\n",
      "Epoch 48/100\n",
      "8000/8000 [==============================] - 0s 42us/sample - loss: 0.3449 - accuracy: 0.8619\n",
      "Epoch 49/100\n",
      "8000/8000 [==============================] - 0s 37us/sample - loss: 0.3451 - accuracy: 0.8604\n",
      "Epoch 50/100\n",
      "8000/8000 [==============================] - 0s 42us/sample - loss: 0.3446 - accuracy: 0.8602\n",
      "Epoch 51/100\n",
      "8000/8000 [==============================] - 0s 35us/sample - loss: 0.3441 - accuracy: 0.8610\n",
      "Epoch 52/100\n",
      "8000/8000 [==============================] - 0s 41us/sample - loss: 0.3438 - accuracy: 0.8622\n",
      "Epoch 53/100\n",
      "8000/8000 [==============================] - 0s 37us/sample - loss: 0.3438 - accuracy: 0.8624\n",
      "Epoch 54/100\n",
      "8000/8000 [==============================] - 0s 41us/sample - loss: 0.3437 - accuracy: 0.8615s - loss: 0.3494 - accuracy\n",
      "Epoch 55/100\n",
      "8000/8000 [==============================] - 0s 37us/sample - loss: 0.3431 - accuracy: 0.8620\n",
      "Epoch 56/100\n",
      "8000/8000 [==============================] - 0s 36us/sample - loss: 0.3432 - accuracy: 0.8615\n",
      "Epoch 57/100\n",
      "8000/8000 [==============================] - 0s 40us/sample - loss: 0.3423 - accuracy: 0.8626\n",
      "Epoch 58/100\n",
      "8000/8000 [==============================] - 0s 41us/sample - loss: 0.3427 - accuracy: 0.8624\n",
      "Epoch 59/100\n",
      "8000/8000 [==============================] - 0s 38us/sample - loss: 0.3428 - accuracy: 0.8631\n",
      "Epoch 60/100\n",
      "8000/8000 [==============================] - 0s 39us/sample - loss: 0.3424 - accuracy: 0.8641\n",
      "Epoch 61/100\n",
      "8000/8000 [==============================] - 0s 38us/sample - loss: 0.3417 - accuracy: 0.8640\n",
      "Epoch 62/100\n",
      "8000/8000 [==============================] - 0s 39us/sample - loss: 0.3420 - accuracy: 0.8629\n",
      "Epoch 63/100\n",
      "8000/8000 [==============================] - 0s 44us/sample - loss: 0.3414 - accuracy: 0.8627\n",
      "Epoch 64/100\n",
      "8000/8000 [==============================] - 0s 41us/sample - loss: 0.3410 - accuracy: 0.8626\n",
      "Epoch 65/100\n",
      "8000/8000 [==============================] - 0s 41us/sample - loss: 0.3405 - accuracy: 0.8633\n",
      "Epoch 66/100\n",
      "8000/8000 [==============================] - 0s 41us/sample - loss: 0.3399 - accuracy: 0.8635\n",
      "Epoch 67/100\n",
      "8000/8000 [==============================] - 0s 36us/sample - loss: 0.3391 - accuracy: 0.8639\n",
      "Epoch 68/100\n",
      "8000/8000 [==============================] - 0s 38us/sample - loss: 0.3388 - accuracy: 0.8622\n",
      "Epoch 69/100\n",
      "8000/8000 [==============================] - 0s 41us/sample - loss: 0.3383 - accuracy: 0.8612\n",
      "Epoch 70/100\n",
      "8000/8000 [==============================] - 0s 43us/sample - loss: 0.3378 - accuracy: 0.8631\n",
      "Epoch 71/100\n",
      "8000/8000 [==============================] - 0s 41us/sample - loss: 0.3376 - accuracy: 0.8621\n",
      "Epoch 72/100\n",
      "8000/8000 [==============================] - 0s 40us/sample - loss: 0.3373 - accuracy: 0.8630\n",
      "Epoch 73/100\n",
      "8000/8000 [==============================] - 0s 39us/sample - loss: 0.3364 - accuracy: 0.8633\n",
      "Epoch 74/100\n",
      "8000/8000 [==============================] - 0s 37us/sample - loss: 0.3370 - accuracy: 0.8619\n",
      "Epoch 75/100\n",
      "8000/8000 [==============================] - 0s 37us/sample - loss: 0.3363 - accuracy: 0.8630\n",
      "Epoch 76/100\n",
      "8000/8000 [==============================] - 0s 39us/sample - loss: 0.3362 - accuracy: 0.8643\n",
      "Epoch 77/100\n"
     ]
    },
    {
     "name": "stdout",
     "output_type": "stream",
     "text": [
      "8000/8000 [==============================] - 0s 37us/sample - loss: 0.3362 - accuracy: 0.8645\n",
      "Epoch 78/100\n",
      "8000/8000 [==============================] - 0s 36us/sample - loss: 0.3364 - accuracy: 0.8645\n",
      "Epoch 79/100\n",
      "8000/8000 [==============================] - 0s 39us/sample - loss: 0.3358 - accuracy: 0.8641\n",
      "Epoch 80/100\n",
      "8000/8000 [==============================] - 0s 40us/sample - loss: 0.3359 - accuracy: 0.8649\n",
      "Epoch 81/100\n",
      "8000/8000 [==============================] - 0s 40us/sample - loss: 0.3357 - accuracy: 0.8631\n",
      "Epoch 82/100\n",
      "8000/8000 [==============================] - 0s 41us/sample - loss: 0.3357 - accuracy: 0.8630\n",
      "Epoch 83/100\n",
      "8000/8000 [==============================] - 0s 41us/sample - loss: 0.3358 - accuracy: 0.8641\n",
      "Epoch 84/100\n",
      "8000/8000 [==============================] - 0s 42us/sample - loss: 0.3357 - accuracy: 0.8627\n",
      "Epoch 85/100\n",
      "8000/8000 [==============================] - 0s 44us/sample - loss: 0.3354 - accuracy: 0.8644\n",
      "Epoch 86/100\n",
      "8000/8000 [==============================] - 0s 41us/sample - loss: 0.3350 - accuracy: 0.8645\n",
      "Epoch 87/100\n",
      "8000/8000 [==============================] - 0s 41us/sample - loss: 0.3353 - accuracy: 0.8630\n",
      "Epoch 88/100\n",
      "8000/8000 [==============================] - 0s 41us/sample - loss: 0.3351 - accuracy: 0.8636\n",
      "Epoch 89/100\n",
      "8000/8000 [==============================] - 0s 39us/sample - loss: 0.3353 - accuracy: 0.8649\n",
      "Epoch 90/100\n",
      "8000/8000 [==============================] - 0s 42us/sample - loss: 0.3347 - accuracy: 0.8634\n",
      "Epoch 91/100\n",
      "8000/8000 [==============================] - 0s 43us/sample - loss: 0.3352 - accuracy: 0.8634\n",
      "Epoch 92/100\n",
      "8000/8000 [==============================] - 0s 42us/sample - loss: 0.3345 - accuracy: 0.8637\n",
      "Epoch 93/100\n",
      "8000/8000 [==============================] - ETA: 0s - loss: 0.3360 - accuracy: 0.86 - 0s 42us/sample - loss: 0.3350 - accuracy: 0.8643\n",
      "Epoch 94/100\n",
      "8000/8000 [==============================] - 0s 47us/sample - loss: 0.3345 - accuracy: 0.8646\n",
      "Epoch 95/100\n",
      "8000/8000 [==============================] - 0s 57us/sample - loss: 0.3344 - accuracy: 0.8634s - loss: 0.3142 - \n",
      "Epoch 96/100\n",
      "8000/8000 [==============================] - 0s 60us/sample - loss: 0.3352 - accuracy: 0.8634\n",
      "Epoch 97/100\n",
      "8000/8000 [==============================] - 0s 46us/sample - loss: 0.3341 - accuracy: 0.8660\n",
      "Epoch 98/100\n",
      "8000/8000 [==============================] - 0s 44us/sample - loss: 0.3348 - accuracy: 0.8651\n",
      "Epoch 99/100\n",
      "8000/8000 [==============================] - 0s 40us/sample - loss: 0.3345 - accuracy: 0.8636\n",
      "Epoch 100/100\n",
      "8000/8000 [==============================] - 0s 41us/sample - loss: 0.3345 - accuracy: 0.8634\n"
     ]
    },
    {
     "data": {
      "text/plain": [
       "<tensorflow.python.keras.callbacks.History at 0x20270887b48>"
      ]
     },
     "execution_count": 14,
     "metadata": {},
     "output_type": "execute_result"
    }
   ],
   "source": [
    "ann.fit(x_train, y_train, batch_size = 32, epochs = 100)"
   ]
  },
  {
   "cell_type": "code",
   "execution_count": 18,
   "metadata": {},
   "outputs": [
    {
     "data": {
      "text/plain": [
       "array([[0.1306527]], dtype=float32)"
      ]
     },
     "execution_count": 18,
     "metadata": {},
     "output_type": "execute_result"
    }
   ],
   "source": [
    "ann.predict(sc.transform([[1, 0, 0, 600, 1, 40, 3, 60000, 2, 1, 1, 50000]]))"
   ]
  },
  {
   "cell_type": "code",
   "execution_count": 19,
   "metadata": {},
   "outputs": [
    {
     "name": "stdout",
     "output_type": "stream",
     "text": [
      "[[0 0]\n",
      " [0 1]\n",
      " [0 0]\n",
      " ...\n",
      " [0 0]\n",
      " [0 0]\n",
      " [0 0]]\n"
     ]
    }
   ],
   "source": [
    "y_pred = ann.predict(x_test)\n",
    "y_pred = (y_pred > 0.5)\n",
    "print(np.concatenate((y_pred.reshape(len(y_pred),1), y_test.reshape(len(y_test),1)),1))"
   ]
  },
  {
   "cell_type": "code",
   "execution_count": 21,
   "metadata": {},
   "outputs": [
    {
     "name": "stdout",
     "output_type": "stream",
     "text": [
      "[[1529   66]\n",
      " [ 211  194]]\n"
     ]
    },
    {
     "data": {
      "text/plain": [
       "0.8615"
      ]
     },
     "execution_count": 21,
     "metadata": {},
     "output_type": "execute_result"
    }
   ],
   "source": [
    "from sklearn.metrics import confusion_matrix, accuracy_score\n",
    "cm = confusion_matrix(y_test, y_pred)\n",
    "print(cm)\n",
    "accuracy_score(y_test, y_pred)"
   ]
  },
  {
   "cell_type": "code",
   "execution_count": 29,
   "metadata": {},
   "outputs": [
    {
     "name": "stderr",
     "output_type": "stream",
     "text": [
      "Using TensorFlow backend.\n"
     ]
    }
   ],
   "source": [
    "import tensorflow as tf\n",
    "from keras.preprocessing.image import ImageDataGenerator"
   ]
  },
  {
   "cell_type": "code",
   "execution_count": 28,
   "metadata": {},
   "outputs": [
    {
     "name": "stdout",
     "output_type": "stream",
     "text": [
      "Collecting keras\n",
      "  Downloading https://files.pythonhosted.org/packages/ad/fd/6bfe87920d7f4fd475acd28500a42482b6b84479832bdc0fe9e589a60ceb/Keras-2.3.1-py2.py3-none-any.whl (377kB)\n",
      "Requirement already satisfied: h5py in c:\\users\\raina\\anaconda3\\lib\\site-packages (from keras) (2.9.0)\n",
      "Requirement already satisfied: scipy>=0.14 in c:\\users\\raina\\anaconda3\\lib\\site-packages (from keras) (1.4.1)\n",
      "Requirement already satisfied: keras-applications>=1.0.6 in c:\\users\\raina\\anaconda3\\lib\\site-packages (from keras) (1.0.8)\n",
      "Requirement already satisfied: six>=1.9.0 in c:\\users\\raina\\anaconda3\\lib\\site-packages (from keras) (1.12.0)\n",
      "Requirement already satisfied: keras-preprocessing>=1.0.5 in c:\\users\\raina\\anaconda3\\lib\\site-packages (from keras) (1.1.2)\n",
      "Requirement already satisfied: pyyaml in c:\\users\\raina\\anaconda3\\lib\\site-packages (from keras) (5.1.2)\n",
      "Requirement already satisfied: numpy>=1.9.1 in c:\\users\\raina\\anaconda3\\lib\\site-packages (from keras) (1.16.5)\n",
      "Installing collected packages: keras\n",
      "Successfully installed keras-2.3.1\n",
      "Note: you may need to restart the kernel to use updated packages.\n"
     ]
    }
   ],
   "source": [
    "pip install keras"
   ]
  },
  {
   "cell_type": "code",
   "execution_count": 30,
   "metadata": {},
   "outputs": [
    {
     "data": {
      "text/plain": [
       "'2.1.0'"
      ]
     },
     "execution_count": 30,
     "metadata": {},
     "output_type": "execute_result"
    }
   ],
   "source": [
    "tf.__version__"
   ]
  },
  {
   "cell_type": "code",
   "execution_count": 32,
   "metadata": {},
   "outputs": [
    {
     "data": {
      "text/plain": [
       "'C:\\\\Users\\\\raina\\\\Downloads\\\\Courses'"
      ]
     },
     "execution_count": 32,
     "metadata": {},
     "output_type": "execute_result"
    }
   ],
   "source": [
    "import os\n",
    "os.getcwd()"
   ]
  },
  {
   "cell_type": "code",
   "execution_count": 36,
   "metadata": {},
   "outputs": [
    {
     "name": "stdout",
     "output_type": "stream",
     "text": [
      "Found 8000 images belonging to 2 classes.\n"
     ]
    }
   ],
   "source": [
    "train_datagen = ImageDataGenerator(rescale = 1./255,\n",
    "                                   shear_range = 0.2,\n",
    "                                   zoom_range = 0.2,\n",
    "                                   horizontal_flip = True)\n",
    "training_set = train_datagen.flow_from_directory(\n",
    "        'dataset/training_set',\n",
    "        target_size=(64, 64),\n",
    "        batch_size=32,\n",
    "        class_mode='binary')"
   ]
  },
  {
   "cell_type": "code",
   "execution_count": 37,
   "metadata": {},
   "outputs": [
    {
     "name": "stdout",
     "output_type": "stream",
     "text": [
      "Found 2000 images belonging to 2 classes.\n"
     ]
    }
   ],
   "source": [
    "test_datagen = ImageDataGenerator(rescale = 1./255)\n",
    "test_set = test_datagen.flow_from_directory(\n",
    "        'dataset/test_set',\n",
    "        target_size=(64, 64),\n",
    "        batch_size=32,\n",
    "        class_mode='binary')"
   ]
  },
  {
   "cell_type": "code",
   "execution_count": 38,
   "metadata": {},
   "outputs": [],
   "source": [
    "cnn = tf.keras.models.Sequential()"
   ]
  },
  {
   "cell_type": "code",
   "execution_count": 39,
   "metadata": {},
   "outputs": [],
   "source": [
    "cnn.add(tf.keras.layers.Conv2D(filters=32, kernel_size = 3, activation='relu', input_shape=[64, 64, 3]))"
   ]
  },
  {
   "cell_type": "code",
   "execution_count": 40,
   "metadata": {},
   "outputs": [],
   "source": [
    "cnn.add(tf.keras.layers.MaxPool2D(pool_size=2, strides=2, padding='valid'))"
   ]
  },
  {
   "cell_type": "code",
   "execution_count": 41,
   "metadata": {},
   "outputs": [],
   "source": [
    "cnn.add(tf.keras.layers.Conv2D(filters=32, kernel_size=3, activation=\"relu\"))\n",
    "cnn.add(tf.keras.layers.MaxPool2D(pool_size=2, strides=2, padding='valid'))"
   ]
  },
  {
   "cell_type": "code",
   "execution_count": 42,
   "metadata": {},
   "outputs": [],
   "source": [
    "cnn.add(tf.keras.layers.Flatten())"
   ]
  },
  {
   "cell_type": "code",
   "execution_count": 43,
   "metadata": {},
   "outputs": [],
   "source": [
    "cnn.add(tf.keras.layers.Dense(units=128, activation='relu'))"
   ]
  },
  {
   "cell_type": "code",
   "execution_count": 44,
   "metadata": {},
   "outputs": [],
   "source": [
    "cnn.add(tf.keras.layers.Dense(units=1, activation='sigmoid'))"
   ]
  },
  {
   "cell_type": "code",
   "execution_count": 45,
   "metadata": {},
   "outputs": [],
   "source": [
    "cnn.compile(optimizer = 'adam', loss = 'binary_crossentropy', metrics = ['accuracy'])"
   ]
  },
  {
   "cell_type": "code",
   "execution_count": 46,
   "metadata": {},
   "outputs": [
    {
     "name": "stdout",
     "output_type": "stream",
     "text": [
      "WARNING:tensorflow:sample_weight modes were coerced from\n",
      "  ...\n",
      "    to  \n",
      "  ['...']\n",
      "WARNING:tensorflow:sample_weight modes were coerced from\n",
      "  ...\n",
      "    to  \n",
      "  ['...']\n",
      "Train for 250 steps, validate for 63 steps\n",
      "Epoch 1/25\n",
      "250/250 [==============================] - 61s 246ms/step - loss: 0.6724 - accuracy: 0.5804 - val_loss: 0.6295 - val_accuracy: 0.6700\n",
      "Epoch 2/25\n",
      "250/250 [==============================] - 60s 241ms/step - loss: 0.6087 - accuracy: 0.6693 - val_loss: 0.5620 - val_accuracy: 0.7290\n",
      "Epoch 3/25\n",
      "250/250 [==============================] - 58s 233ms/step - loss: 0.5705 - accuracy: 0.7039 - val_loss: 0.5916 - val_accuracy: 0.6975\n",
      "Epoch 4/25\n",
      "250/250 [==============================] - 55s 221ms/step - loss: 0.5374 - accuracy: 0.7247 - val_loss: 0.5336 - val_accuracy: 0.7405\n",
      "Epoch 5/25\n",
      "250/250 [==============================] - 58s 233ms/step - loss: 0.5183 - accuracy: 0.7400 - val_loss: 0.5414 - val_accuracy: 0.7235\n",
      "Epoch 6/25\n",
      "250/250 [==============================] - 58s 233ms/step - loss: 0.4907 - accuracy: 0.7580 - val_loss: 0.5668 - val_accuracy: 0.7105\n",
      "Epoch 7/25\n",
      "250/250 [==============================] - 57s 229ms/step - loss: 0.4728 - accuracy: 0.7715 - val_loss: 0.4801 - val_accuracy: 0.7660\n",
      "Epoch 8/25\n",
      "250/250 [==============================] - 58s 233ms/step - loss: 0.4588 - accuracy: 0.7812 - val_loss: 0.5207 - val_accuracy: 0.7715\n",
      "Epoch 9/25\n",
      "250/250 [==============================] - 57s 227ms/step - loss: 0.4445 - accuracy: 0.7914 - val_loss: 0.4786 - val_accuracy: 0.7785\n",
      "Epoch 10/25\n",
      "250/250 [==============================] - 57s 226ms/step - loss: 0.4299 - accuracy: 0.7939 - val_loss: 0.4878 - val_accuracy: 0.7810\n",
      "Epoch 11/25\n",
      "250/250 [==============================] - 78s 313ms/step - loss: 0.4174 - accuracy: 0.8031 - val_loss: 0.4978 - val_accuracy: 0.7790\n",
      "Epoch 12/25\n",
      "250/250 [==============================] - 89s 355ms/step - loss: 0.3982 - accuracy: 0.8166 - val_loss: 0.4910 - val_accuracy: 0.7825\n",
      "Epoch 13/25\n",
      "250/250 [==============================] - 87s 349ms/step - loss: 0.3874 - accuracy: 0.8223 - val_loss: 0.4715 - val_accuracy: 0.7945\n",
      "Epoch 14/25\n",
      "250/250 [==============================] - 88s 354ms/step - loss: 0.3839 - accuracy: 0.8273 - val_loss: 0.4750 - val_accuracy: 0.7915\n",
      "Epoch 15/25\n",
      "250/250 [==============================] - 88s 353ms/step - loss: 0.3667 - accuracy: 0.8331 - val_loss: 0.4775 - val_accuracy: 0.7860\n",
      "Epoch 16/25\n",
      "250/250 [==============================] - 88s 354ms/step - loss: 0.3476 - accuracy: 0.8472 - val_loss: 0.5005 - val_accuracy: 0.7710\n",
      "Epoch 17/25\n",
      "250/250 [==============================] - 90s 359ms/step - loss: 0.3436 - accuracy: 0.8444 - val_loss: 0.4559 - val_accuracy: 0.8045\n",
      "Epoch 18/25\n",
      "250/250 [==============================] - 89s 358ms/step - loss: 0.3206 - accuracy: 0.8594 - val_loss: 0.4886 - val_accuracy: 0.8025\n",
      "Epoch 19/25\n",
      "250/250 [==============================] - 89s 358ms/step - loss: 0.3191 - accuracy: 0.8559 - val_loss: 0.4634 - val_accuracy: 0.8080\n",
      "Epoch 20/25\n",
      "250/250 [==============================] - 91s 364ms/step - loss: 0.2986 - accuracy: 0.8690 - val_loss: 0.4880 - val_accuracy: 0.8025\n",
      "Epoch 21/25\n",
      "250/250 [==============================] - 93s 371ms/step - loss: 0.2924 - accuracy: 0.8734 - val_loss: 0.4971 - val_accuracy: 0.7960\n",
      "Epoch 22/25\n",
      "250/250 [==============================] - 91s 364ms/step - loss: 0.2784 - accuracy: 0.8806 - val_loss: 0.4935 - val_accuracy: 0.8000\n",
      "Epoch 23/25\n",
      "250/250 [==============================] - 91s 364ms/step - loss: 0.2767 - accuracy: 0.8854 - val_loss: 0.5799 - val_accuracy: 0.7815\n",
      "Epoch 24/25\n",
      "250/250 [==============================] - 91s 363ms/step - loss: 0.2586 - accuracy: 0.8911 - val_loss: 0.4851 - val_accuracy: 0.8085\n",
      "Epoch 25/25\n",
      "250/250 [==============================] - 91s 363ms/step - loss: 0.2547 - accuracy: 0.8925 - val_loss: 0.5211 - val_accuracy: 0.7935\n"
     ]
    },
    {
     "data": {
      "text/plain": [
       "<tensorflow.python.keras.callbacks.History at 0x202737e7b48>"
      ]
     },
     "execution_count": 46,
     "metadata": {},
     "output_type": "execute_result"
    }
   ],
   "source": [
    "cnn.fit(x = training_set, validation_data = test_set, epochs = 25)"
   ]
  },
  {
   "cell_type": "code",
   "execution_count": 54,
   "metadata": {},
   "outputs": [],
   "source": [
    "import numpy as np\n",
    "from keras.preprocessing import image\n",
    "test_image = image.load_img('dataset/single_prediction/cat_or_dog_4.jpg', target_size = (64, 64))\n",
    "test_image = image.img_to_array(test_image)\n",
    "test_image = np.expand_dims(test_image, axis = 0)\n",
    "result = cnn.predict(test_image)\n",
    "training_set.class_indices\n",
    "if result[0][0] == 1:\n",
    "    prediction = 'dog'\n",
    "else:\n",
    "    prediction = 'cat'"
   ]
  },
  {
   "cell_type": "code",
   "execution_count": 55,
   "metadata": {},
   "outputs": [
    {
     "name": "stdout",
     "output_type": "stream",
     "text": [
      "dog\n"
     ]
    }
   ],
   "source": [
    "print(prediction)"
   ]
  },
  {
   "cell_type": "code",
   "execution_count": null,
   "metadata": {},
   "outputs": [],
   "source": []
  }
 ],
 "metadata": {
  "kernelspec": {
   "display_name": "Python 3",
   "language": "python",
   "name": "python3"
  },
  "language_info": {
   "codemirror_mode": {
    "name": "ipython",
    "version": 3
   },
   "file_extension": ".py",
   "mimetype": "text/x-python",
   "name": "python",
   "nbconvert_exporter": "python",
   "pygments_lexer": "ipython3",
   "version": "3.7.4"
  }
 },
 "nbformat": 4,
 "nbformat_minor": 2
}
